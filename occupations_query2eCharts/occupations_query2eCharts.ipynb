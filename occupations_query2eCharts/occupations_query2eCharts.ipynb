{
 "cells": [
  {
   "cell_type": "markdown",
   "metadata": {},
   "source": [
    "**Script formating the query result json of the ooa occupations query to the format needed for the [Apache ECharts sunburst visualisation](https://echarts.apache.org/examples/en/editor.html?c=sunburst-simple)**"
   ]
  },
  {
   "cell_type": "markdown",
   "metadata": {},
   "source": [
    "Import libraries"
   ]
  },
  {
   "cell_type": "code",
   "execution_count": null,
   "metadata": {},
   "outputs": [],
   "source": [
    "import requests, json"
   ]
  },
  {
   "cell_type": "markdown",
   "metadata": {},
   "source": [
    "Fetch occupation-ontology query result JSON"
   ]
  },
  {
   "cell_type": "code",
   "execution_count": null,
   "metadata": {},
   "outputs": [],
   "source": [
    "inJSON = requests.get(\"https://gams.uni-graz.at/archive/objects/query:ooa.occupations/methods/sdef:Query/getJSON\").json()\n",
    "#inJSON"
   ]
  },
  {
   "cell_type": "markdown",
   "metadata": {},
   "source": [
    "Create result JSON"
   ]
  },
  {
   "cell_type": "code",
   "execution_count": null,
   "metadata": {},
   "outputs": [],
   "source": [
    "### Create JSON for Apache ECharts ###\n",
    "outJSON = []\n",
    "for result in inJSON: # Lookup major groups\n",
    "    count = result[\"count\"]\n",
    "    unit = result[\"HISCO_Unit\"]\n",
    "    unit_group = result[\"HISCO_Unit_group\"]\n",
    "    minor_group = result[\"HISCO_Minor_group\"]\n",
    "    major_group = result[\"HISCO_Major_group\"]\n",
    "    if not any(mag[\"name\"] == major_group for mag in outJSON): # New major group\n",
    "        outJSON.append({\"name\": major_group, \"children\": []})\n",
    "    currentMag = next(mag for mag in outJSON if mag[\"name\"] == major_group)\n",
    "    if not any(mig[\"name\"] == minor_group for mig in currentMag[\"children\"]): # New minor group\n",
    "        currentMag[\"children\"].append({\"name\": minor_group, \"children\": []})\n",
    "    currentMig = next(mig for mig in currentMag[\"children\"] if mig[\"name\"] == minor_group)\n",
    "    if not any(ug[\"name\"] == unit_group for ug in currentMig[\"children\"]): # New unit group\n",
    "        currentMig[\"children\"].append({\"name\": unit_group, \"children\": []})\n",
    "    currentUG = next(ug for ug in currentMig[\"children\"] if ug[\"name\"] == unit_group)\n",
    "    currentUG[\"children\"].append({\"name\": unit, \"value\": int(count)})\n",
    "print(json.dumps(outJSON, indent=2))"
   ]
  },
  {
   "cell_type": "markdown",
   "metadata": {},
   "source": [
    "Write JSON to file"
   ]
  },
  {
   "cell_type": "code",
   "execution_count": null,
   "metadata": {},
   "outputs": [],
   "source": [
    "# with open(\"eCharts.json\", \"w\", encoding=\"utf-8\") as file:\n",
    "#     file.write(json.dumps(outJSON, indent=2, ensure_ascii=False))"
   ]
  }
 ],
 "metadata": {
  "kernelspec": {
   "display_name": "base",
   "language": "python",
   "name": "python3"
  },
  "language_info": {
   "codemirror_mode": {
    "name": "ipython",
    "version": 3
   },
   "file_extension": ".py",
   "mimetype": "text/x-python",
   "name": "python",
   "nbconvert_exporter": "python",
   "pygments_lexer": "ipython3",
   "version": "3.11.5"
  }
 },
 "nbformat": 4,
 "nbformat_minor": 4
}
